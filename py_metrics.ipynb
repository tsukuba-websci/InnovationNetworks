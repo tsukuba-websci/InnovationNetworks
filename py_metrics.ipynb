{
 "cells": [
  {
   "cell_type": "code",
   "execution_count": 5,
   "metadata": {},
   "outputs": [],
   "source": [
    "import networkx as nx\n",
    "from utils.utils import *\n",
    "\n",
    "\n",
    "graph_simulation = read_graph_from_json(\"data/output/graph/graph_simulation.json\")\n",
    "graph_empirical = read_graph_from_json(\"data/output/graph/graph_empirical.json\")"
   ]
  },
  {
   "cell_type": "code",
   "execution_count": 6,
   "metadata": {},
   "outputs": [
    {
     "name": "stdout",
     "output_type": "stream",
     "text": [
      "Simulation - Average Distance: 2678.748744361503\n",
      "Empirical - Average Distance: 3.4236091207710526\n"
     ]
    }
   ],
   "source": [
    "average_distance_simulation = nx.average_shortest_path_length(graph_simulation)\n",
    "average_distance_empirical = nx.average_shortest_path_length(graph_empirical)\n",
    "\n",
    "print(\"Simulation - Average Distance:\", average_distance_simulation)\n",
    "print(\"Empirical - Average Distance:\", average_distance_empirical)"
   ]
  },
  {
   "cell_type": "code",
   "execution_count": 7,
   "metadata": {},
   "outputs": [
    {
     "name": "stdout",
     "output_type": "stream",
     "text": [
      "Simulation - Average Clustering Coefficient: 0.1411148760462759\n",
      "Simulation - Average Clustering Coefficient: 0.09975682497001831\n"
     ]
    }
   ],
   "source": [
    "average_clustering_coefficient_simulation = nx.average_clustering(graph_simulation)\n",
    "average_clustering_coefficient_empirical = nx.average_clustering(graph_empirical)\n",
    "\n",
    "print(\"Simulation - Average Clustering Coefficient:\", average_clustering_coefficient_simulation)\n",
    "print(\"Simulation - Average Clustering Coefficient:\", average_clustering_coefficient_empirical)"
   ]
  },
  {
   "cell_type": "code",
   "execution_count": 4,
   "metadata": {},
   "outputs": [
    {
     "name": "stdout",
     "output_type": "stream",
     "text": [
      "Average degree: 2.278117975350748\n"
     ]
    }
   ],
   "source": [
    "average_degree_simulation = sum(dict(graph_simulation.degree()).values()) / len(graph_simulation)\n",
    "average_degree_empirical = sum(dict(graph_empirical.degree()).values()) / len(graph_empirical)\n",
    "\n",
    "print(\"Simulation - Average Degree:\", average_degree_simulation)\n",
    "print(\"Empirical - Average Degree:\", average_degree_empirical)"
   ]
  }
 ],
 "metadata": {
  "kernelspec": {
   "display_name": "Python 3",
   "language": "python",
   "name": "python3"
  },
  "language_info": {
   "codemirror_mode": {
    "name": "ipython",
    "version": 3
   },
   "file_extension": ".py",
   "mimetype": "text/x-python",
   "name": "python",
   "nbconvert_exporter": "python",
   "pygments_lexer": "ipython3",
   "version": "3.10.0"
  },
  "orig_nbformat": 4
 },
 "nbformat": 4,
 "nbformat_minor": 2
}
